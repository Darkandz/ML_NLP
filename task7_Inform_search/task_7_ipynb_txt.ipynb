{
  "nbformat": 4,
  "nbformat_minor": 0,
  "metadata": {
    "colab": {
      "provenance": []
    },
    "kernelspec": {
      "display_name": "Python 3",
      "language": "python",
      "name": "python3"
    },
    "language_info": {
      "codemirror_mode": {
        "name": "ipython",
        "version": 3
      },
      "file_extension": ".py",
      "mimetype": "text/x-python",
      "name": "python",
      "nbconvert_exporter": "python",
      "pygments_lexer": "ipython3",
      "version": "3.7.6"
    }
  },
  "cells": [
    {
      "cell_type": "markdown",
      "metadata": {
        "id": "Vd_ST0GfO97y"
      },
      "source": [
        "# Информационный поиск\n",
        "\n",
        "Заменяем текст запроса по заданию"
      ]
    },
    {
      "cell_type": "code",
      "metadata": {
        "id": "d6Uze9jOV9EO"
      },
      "source": [
        "QUERIES = ['theory of gases']   "
      ],
      "execution_count": 8,
      "outputs": []
    },
    {
      "cell_type": "markdown",
      "metadata": {
        "id": "4etK3pClWELD"
      },
      "source": [
        "Скачиваем данные"
      ]
    },
    {
      "cell_type": "code",
      "metadata": {
        "colab": {
          "base_uri": "https://localhost:8080/"
        },
        "id": "AHflLH2APAHK",
        "outputId": "21a32ee1-66f7-4335-af5a-f97006ee3c68"
      },
      "source": [
        "! wget -q http://ir.dcs.gla.ac.uk/resources/test_collections/cran/cran.tar.gz\n",
        "! tar -xvf cran.tar.gz\n",
        "! rm cran.tar.gz*\n",
        "! grep -v \"^\\.\" cran.qry > just.qry\n",
        "! head -3 just.qry\n",
        "! pip install -q scikit-learn==0.22.2.post1"
      ],
      "execution_count": 9,
      "outputs": [
        {
          "output_type": "stream",
          "name": "stdout",
          "text": [
            "cran.all.1400\n",
            "cran.qry\n",
            "cranqrel\n",
            "cranqrel.readme\n",
            "what similarity laws must be obeyed when constructing aeroelastic models\n",
            "of heated high speed aircraft .\n",
            "what are the structural and aeroelastic problems associated with flight\n"
          ]
        }
      ]
    },
    {
      "cell_type": "markdown",
      "metadata": {
        "id": "zddS-EsnWP6U"
      },
      "source": [
        "Запускаем код"
      ]
    },
    {
      "cell_type": "code",
      "metadata": {
        "colab": {
          "base_uri": "https://localhost:8080/"
        },
        "id": "SBaV3xeQiUam",
        "outputId": "1ab3c81d-33f0-4dca-bf67-e81e7242c669"
      },
      "source": [
        "from  sklearn.feature_extraction.text import CountVectorizer\n",
        "from  sklearn.feature_extraction.text import TfidfVectorizer\n",
        "import numpy as np\n",
        "import scipy.spatial.distance as ds \n",
        "import warnings\n",
        "\n",
        "warnings.filterwarnings(\"ignore\")\n",
        "\n",
        "def cosine_distance(vector_a: np.array, vector_b: np.array) -> float:\n",
        "  return ds.cosine(vector_a, vector_b)\n",
        "\n",
        "def jaccard_sim(vector_a: np.array, vector_b: np.array) -> float:\n",
        "  vector_a = np.asarray(vector_a, np.bool)\n",
        "  vector_b = np.asarray(vector_b, np.bool)\n",
        "  return np.double(np.bitwise_and(vector_a, vector_b).sum()) / np.double(np.bitwise_or(vector_a, vector_b).sum())\n",
        "\n",
        "raw_query_data = [line.strip() for line in open(\"just.qry\", \"r\").readlines()]\n",
        "query_data = [\"\"]\n",
        "\n",
        "for query_part in raw_query_data:\n",
        "  query_data[-1] += query_part + \" \"\n",
        "  if query_part.endswith(\".\"):\n",
        "    query_data.append(\"\")\n",
        "\n",
        "encoder = CountVectorizer(binary=True)\n",
        "encoded_data = encoder.fit_transform(query_data)\n",
        "encoded_queries = encoder.transform(QUERIES)\n",
        "\n",
        "id2term = {idx: term for term, idx in encoder.vocabulary_.items()}\n",
        "non_zero_values_ids = encoded_data[0].nonzero()[1]\n",
        "\n",
        "terms = [id2term[idx] for idx in non_zero_values_ids]\n",
        "\n",
        "print(\"По мера Жаккара:\")\n",
        "for q_id, query in enumerate(encoded_queries):\n",
        "  query = query.todense().A1\n",
        "  docs = [doc.todense().A1 for doc in encoded_data]\n",
        "  id2doc2similarity = [(doc_id, doc, jaccard_sim(query, doc)) for doc_id, doc in enumerate(docs)]\n",
        "  closest = sorted(id2doc2similarity, key=lambda x: x[2], reverse=True)\n",
        "  \n",
        "  print(\"Q: %s:\" %(QUERIES[q_id]))\n",
        "  print(\"    %s\\t%s\" %(\"ID\", \"Коэффициент\"))\n",
        "  for closest_id, _, sim in closest[:2]:\n",
        "    print(\"    %d\\t%.2f\" %(closest_id, sim))\n",
        "\n",
        "print()\n",
        "\n",
        "# Второе задание\n",
        "tfidf_encoder = TfidfVectorizer()\n",
        "tfidf_encoded_data = tfidf_encoder.fit_transform(query_data)\n",
        "tfidf_encoded_queries = tfidf_encoder.transform(QUERIES)\n",
        "\n",
        "print(\"Косинустное расстояние:\")\n",
        "for q_id, query in enumerate(tfidf_encoded_queries):\n",
        "  query = query.todense().A1\n",
        "  docs = [doc.todense().A1 for doc in tfidf_encoded_data]\n",
        "  id2doc2similarity = [(doc_id, doc, cosine_distance(query, doc)) for doc_id, doc in enumerate(docs)]\n",
        "  closest = sorted(id2doc2similarity, key=lambda x: x[2], reverse=False)\n",
        "\n",
        "  print(\"Q: %s:\" %(QUERIES[q_id]))\n",
        "  print(\"    %s\\t%s\" %(\"ID\", \"Коэффициент\"))\n",
        "  for closest_id, _, sim in closest[:3]:\n",
        "    print(\"    %d\\t%.2f\" %(closest_id, sim))"
      ],
      "execution_count": 11,
      "outputs": [
        {
          "output_type": "stream",
          "name": "stdout",
          "text": [
            "По мера Жаккара:\n",
            "Q: theory of gases:\n",
            "    ID\tКоэффициент\n",
            "    42\t0.33\n",
            "    43\t0.20\n",
            "\n",
            "Косинустное расстояние:\n",
            "Q: theory of gases:\n",
            "    ID\tКоэффициент\n",
            "    226\t0.00\n",
            "    42\t0.46\n",
            "    34\t0.71\n"
          ]
        }
      ]
    }
  ]
}