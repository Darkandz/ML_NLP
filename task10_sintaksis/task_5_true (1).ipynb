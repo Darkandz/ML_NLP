{
  "nbformat": 4,
  "nbformat_minor": 0,
  "metadata": {
    "colab": {
      "provenance": []
    },
    "kernelspec": {
      "display_name": "Python 3",
      "language": "python",
      "name": "python3"
    },
    "language_info": {
      "codemirror_mode": {
        "name": "ipython",
        "version": 3
      },
      "file_extension": ".py",
      "mimetype": "text/x-python",
      "name": "python",
      "nbconvert_exporter": "python",
      "pygments_lexer": "ipython3",
      "version": "3.7.6"
    }
  },
  "cells": [
    {
      "cell_type": "markdown",
      "metadata": {
        "id": "C5KhkjCbjGE3"
      },
      "source": [
        "# Меняем все предложения по заданию"
      ]
    },
    {
      "cell_type": "code",
      "metadata": {
        "id": "3WQt7S_GiKUx"
      },
      "source": [
        "sentences = [\"Таким образом, люди с белой кожей среди темнокожих оказываются жертвой всеобщей жажды потустороннего.\",\n",
        "             \"— Назовите кого-нибудь , кто обладает таким успехом ! »\",\n",
        "             \"Сегодня даже численность населения этого государства является относительной величиной .\"]"
      ],
      "execution_count": 1,
      "outputs": []
    },
    {
      "cell_type": "markdown",
      "metadata": {
        "id": "D6IK9gfxiFwy"
      },
      "source": [
        "# Скачиваем данные и библиотеки"
      ]
    },
    {
      "cell_type": "code",
      "metadata": {
        "colab": {
          "base_uri": "https://localhost:8080/"
        },
        "id": "pFELL0b6i6Zz",
        "outputId": "1c5a216f-32d4-4fe0-a7d5-b6aa23128932"
      },
      "source": [
        "! pip install -q conllu\n",
        "! pip install -q graphviz\n",
        "! pip install -q ufal.udpipe\n",
        "!wget -q 'https://lindat.mff.cuni.cz/repository/xmlui/bitstream/handle/11234/1-3131/russian-syntagrus-ud-2.5-191206.udpipe'\n",
        "!wget -q 'https://lindat.mff.cuni.cz/repository/xmlui/bitstream/handle/11234/1-3131/russian-taiga-ud-2.5-191206.udpipe'"
      ],
      "execution_count": 2,
      "outputs": [
        {
          "output_type": "stream",
          "name": "stdout",
          "text": [
            "\u001b[?25l     \u001b[90m━━━━━━━━━━━━━━━━━━━━━━━━━━━━━━━━━━━━━━━━\u001b[0m \u001b[32m0.0/848.5 KB\u001b[0m \u001b[31m?\u001b[0m eta \u001b[36m-:--:--\u001b[0m\r\u001b[2K     \u001b[91m━━━━━━━━━━━━━━━━━━━━━━━━━━━━━━━━━━━━━\u001b[0m\u001b[91m╸\u001b[0m \u001b[32m839.7/848.5 KB\u001b[0m \u001b[31m40.1 MB/s\u001b[0m eta \u001b[36m0:00:01\u001b[0m\r\u001b[2K     \u001b[90m━━━━━━━━━━━━━━━━━━━━━━━━━━━━━━━━━━━━━━\u001b[0m \u001b[32m848.5/848.5 KB\u001b[0m \u001b[31m17.3 MB/s\u001b[0m eta \u001b[36m0:00:00\u001b[0m\n",
            "\u001b[?25h"
          ]
        }
      ]
    },
    {
      "cell_type": "markdown",
      "metadata": {
        "id": "dBEpoDkbm-40"
      },
      "source": [
        "# Запускаем код"
      ]
    },
    {
      "cell_type": "code",
      "metadata": {
        "id": "dmf7LI_0i6ax",
        "colab": {
          "base_uri": "https://localhost:8080/"
        },
        "outputId": "65266465-7b84-4100-ac8c-30e4fdfe6a1d"
      },
      "source": [
        "import sys\n",
        "\n",
        "from conllu import parse\n",
        "from graphviz import Digraph\n",
        "from ufal.udpipe import Model, Pipeline, ProcessingError\n",
        "from conllu import parse\n",
        "from graphviz import Digraph\n",
        "\n",
        "INPUT_FORMAT = \"tokenize\"\n",
        "OUTPUT_FORMAT = \"conllu\"\n",
        "SYNTAGRUS_MODEL_FILE = \"russian-syntagrus-ud-2.5-191206.udpipe\"\n",
        "TAIGA_MODEL_FILE = \"russian-taiga-ud-2.5-191206.udpipe\"\n",
        "\n",
        "syntagrus_model = Model.load(SYNTAGRUS_MODEL_FILE)\n",
        "taiga_model = Model.load(TAIGA_MODEL_FILE)\n",
        "\n",
        "syntagrus_pipeline = Pipeline(syntagrus_model, INPUT_FORMAT, Pipeline.DEFAULT, Pipeline.DEFAULT, OUTPUT_FORMAT)\n",
        "taiga_pipeline = Pipeline(taiga_model, INPUT_FORMAT, Pipeline.DEFAULT, Pipeline.DEFAULT, OUTPUT_FORMAT)\n",
        "\n",
        "error = ProcessingError()\n",
        "\n",
        "def parse_syntax(raw_text, pipeline):\n",
        "    text = raw_text.strip()\n",
        "    processed = pipeline.process(text, error)\n",
        "\n",
        "    if error.occurred():\n",
        "        sys.stderr.write(\"An error occurred when running run_udpipe: \")\n",
        "        sys.stderr.write(error.message)\n",
        "        sys.stderr.write(\"\\n\")\n",
        "\n",
        "    return processed\n",
        "\n",
        "def parse_output(conll):\n",
        "    return [s.to_tree() for s in parse(conll)]\n",
        "\n",
        "class Root(object):\n",
        "  def __init__(self, child):\n",
        "    self.token = {\"form\": \"\", \"id\": 0, \"deprel\": \"root\"}\n",
        "    self.children = [child]\n",
        "\n",
        "def edges_sets(tree):\n",
        "  edges_labeled = []\n",
        "  edges_unlabeled = []\n",
        "  queue = [Root(tree)]\n",
        "  \n",
        "  while len(queue) > 0:\n",
        "    head = queue.pop()\n",
        "    head_label = head.token[\"form\"] + \" (%d)\" % head.token[\"id\"]\n",
        "    queue.extend(head.children)\n",
        "    \n",
        "    for c in head.children:\n",
        "      c_label = c.token[\"form\"] + \" (%d)\" %  c.token[\"id\"]\n",
        "      edges_unlabeled.append((head_label, c_label))\n",
        "      edges_labeled.append((head_label, c_label, c.token[\"deprel\"]))\n",
        "  \n",
        "  return set(edges_labeled), set(edges_unlabeled)\n",
        "\n",
        "def accuracy(gold, pred):\n",
        "  gold_labeled, gold_unlabeled = edges_sets(gold)\n",
        "  pred_labeled, pred_unlabeled = edges_sets(pred)\n",
        "\n",
        "  return len(gold_labeled.intersection(pred_labeled)) / len(gold_labeled), \\\n",
        "          len(gold_unlabeled.intersection(pred_unlabeled)) / len(gold_unlabeled)\n",
        "\n",
        "print(\"UAS \\tLAS \\tMAX(Глубина) \\tПредложение\")\n",
        "for sentence in sentences:\n",
        "  syntag = parse_syntax(sentence, syntagrus_pipeline)\n",
        "  taiga = parse_syntax(sentence, taiga_pipeline)\n",
        "\n",
        "  str_tree = parse_output(syntag.strip())[0]\n",
        "  taiga_tree = parse_output(taiga.strip())[0]\n",
        "\n",
        "  LAS, UAS = accuracy(str_tree, taiga_tree)\n",
        "\n",
        "  queues = [[(taiga_tree, 0)], [(str_tree, 0)]]\n",
        "  new_depth = []\n",
        "\n",
        "  for queue in queues:\n",
        "    depth = 0\n",
        "    while len(queue) > 0:\n",
        "        head, depth = queue.pop(0)\n",
        "        queue.extend([(c, depth + 1) for c in head.children])\n",
        "    new_depth.append(depth)\n",
        "  \n",
        "  \n",
        "  print(\"%.3f \\t%.3f \\t%d \\t\\t%s\" % (UAS, LAS, max(new_depth), sentence))"
      ],
      "execution_count": 3,
      "outputs": [
        {
          "output_type": "stream",
          "name": "stdout",
          "text": [
            "UAS \tLAS \tMAX(Глубина) \tПредложение\n",
            "0.800 \t0.600 \t4 \t\tТаким образом, люди с белой кожей среди темнокожих оказываются жертвой всеобщей жажды потустороннего.\n",
            "0.800 \t0.700 \t4 \t\t— Назовите кого-нибудь , кто обладает таким успехом ! »\n",
            "1.000 \t0.900 \t4 \t\tСегодня даже численность населения этого государства является относительной величиной .\n"
          ]
        }
      ]
    }
  ]
}